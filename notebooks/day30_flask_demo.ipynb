{
 "cells": [
  {
   "cell_type": "markdown",
   "metadata": {},
   "source": [
    "## Machine Learning in Production - Part II\n",
    "\n",
    "### Preparing the ML Models\n",
    "\n",
    "Note: This exercise will not be a perfect machine learning approach, but rather a framework to go about `Deploying Machine Learning models`"
   ]
  },
  {
   "cell_type": "markdown",
   "metadata": {},
   "source": [
    "We'll be dealing with `boston` dataset and creating an __ML Model__ to be deployed."
   ]
  },
  {
   "cell_type": "markdown",
   "metadata": {},
   "source": [
    "- Loading the dataset:"
   ]
  },
  {
   "cell_type": "code",
   "execution_count": 1,
   "metadata": {
    "collapsed": true
   },
   "outputs": [],
   "source": [
    "from sklearn.datasets import load_boston\n",
    "from sklearn.model_selection import train_test_split\n",
    "boston = load_boston()\n",
    "\n",
    "X_train, X_test, y_train, y_test = train_test_split(boston.data, boston.target, random_state=0)"
   ]
  },
  {
   "cell_type": "code",
   "execution_count": 2,
   "metadata": {},
   "outputs": [
    {
     "data": {
      "text/plain": [
       "(379, 13)"
      ]
     },
     "execution_count": 2,
     "metadata": {},
     "output_type": "execute_result"
    }
   ],
   "source": [
    "X_train.shape"
   ]
  },
  {
   "cell_type": "code",
   "execution_count": 3,
   "metadata": {},
   "outputs": [
    {
     "data": {
      "text/plain": [
       "(127, 13)"
      ]
     },
     "execution_count": 3,
     "metadata": {},
     "output_type": "execute_result"
    }
   ],
   "source": [
    "X_test.shape"
   ]
  },
  {
   "cell_type": "code",
   "execution_count": 4,
   "metadata": {},
   "outputs": [
    {
     "data": {
      "text/plain": [
       "(379,)"
      ]
     },
     "execution_count": 4,
     "metadata": {},
     "output_type": "execute_result"
    }
   ],
   "source": [
    "y_train.shape"
   ]
  },
  {
   "cell_type": "code",
   "execution_count": 5,
   "metadata": {},
   "outputs": [
    {
     "data": {
      "text/plain": [
       "(127,)"
      ]
     },
     "execution_count": 5,
     "metadata": {},
     "output_type": "execute_result"
    }
   ],
   "source": [
    "y_test.shape"
   ]
  },
  {
   "cell_type": "markdown",
   "metadata": {},
   "source": [
    "- Creating functions to do preprocessing & create ML Models"
   ]
  },
  {
   "cell_type": "code",
   "execution_count": 13,
   "metadata": {
    "collapsed": true
   },
   "outputs": [],
   "source": [
    "from sklearn.linear_model import Ridge"
   ]
  },
  {
   "cell_type": "code",
   "execution_count": 14,
   "metadata": {
    "collapsed": true
   },
   "outputs": [],
   "source": [
    "ridge = Ridge()"
   ]
  },
  {
   "cell_type": "code",
   "execution_count": 15,
   "metadata": {},
   "outputs": [
    {
     "data": {
      "text/plain": [
       "Ridge(alpha=1.0, copy_X=True, fit_intercept=True, max_iter=None,\n",
       "   normalize=False, random_state=None, solver='auto', tol=0.001)"
      ]
     },
     "execution_count": 15,
     "metadata": {},
     "output_type": "execute_result"
    }
   ],
   "source": [
    "ridge.fit(X_train,y_train)"
   ]
  },
  {
   "cell_type": "code",
   "execution_count": 16,
   "metadata": {},
   "outputs": [
    {
     "name": "stdout",
     "output_type": "stream",
     "text": [
      "Train set score: 0.77\n",
      "Test set score: 0.63\n"
     ]
    }
   ],
   "source": [
    "print(\"Train set score: {:.2f}\".format(ridge.score(X_train, y_train)))\n",
    "print(\"Test set score: {:.2f}\".format(ridge.score(X_test, y_test)))"
   ]
  },
  {
   "cell_type": "code",
   "execution_count": null,
   "metadata": {
    "collapsed": true
   },
   "outputs": [],
   "source": [
    "import numpy as np\n",
    "np.savetxt(\"./data/X_test.csv\", X_test, delimiter=\",\")"
   ]
  },
  {
   "cell_type": "markdown",
   "metadata": {},
   "source": [
    "- To serialize the model with `pickle`"
   ]
  },
  {
   "cell_type": "code",
   "execution_count": 28,
   "metadata": {
    "collapsed": true
   },
   "outputs": [],
   "source": [
    "import pickle\n",
    "pickled_model = \"model1.pk\""
   ]
  },
  {
   "cell_type": "code",
   "execution_count": 29,
   "metadata": {
    "collapsed": true
   },
   "outputs": [],
   "source": [
    "import os"
   ]
  },
  {
   "cell_type": "code",
   "execution_count": 30,
   "metadata": {},
   "outputs": [
    {
     "data": {
      "text/plain": [
       "'/home/pratos/greyatom_final/day30_machine_learning_in_production_two'"
      ]
     },
     "execution_count": 30,
     "metadata": {},
     "output_type": "execute_result"
    }
   ],
   "source": [
    "os.getcwd()"
   ]
  },
  {
   "cell_type": "code",
   "execution_count": 31,
   "metadata": {
    "collapsed": true
   },
   "outputs": [],
   "source": [
    "pickle.dump(ridge, open(os.getcwd()+'/models/'+str(pickled_model), 'wb'))"
   ]
  },
  {
   "cell_type": "markdown",
   "metadata": {},
   "source": [
    "- Just to check whether, the model pickling works and we are able to get predictions:"
   ]
  },
  {
   "cell_type": "code",
   "execution_count": 35,
   "metadata": {},
   "outputs": [
    {
     "name": "stdout",
     "output_type": "stream",
     "text": [
      "Test set score: 0.63\n"
     ]
    }
   ],
   "source": [
    "loaded_model = pickle.load(open(os.getcwd()+'/models/'+str(pickled_model), 'rb'))\n",
    "result = loaded_model.score(X_test, y_test)\n",
    "print(\"Test set score: {:.2f}\".format(result))"
   ]
  },
  {
   "cell_type": "markdown",
   "metadata": {},
   "source": [
    "Comparing it with the actual ridge test output, we can confirm that it is the same!"
   ]
  },
  {
   "cell_type": "markdown",
   "metadata": {},
   "source": [
    "- Serializing model using `joblib`"
   ]
  },
  {
   "cell_type": "code",
   "execution_count": 25,
   "metadata": {
    "collapsed": true
   },
   "outputs": [],
   "source": [
    "from sklearn.externals import joblib"
   ]
  },
  {
   "cell_type": "code",
   "execution_count": 32,
   "metadata": {},
   "outputs": [
    {
     "data": {
      "text/plain": [
       "['/home/pratos/greyatom_final/day30_machine_learning_in_production_two/models/model2.pk']"
      ]
     },
     "execution_count": 32,
     "metadata": {},
     "output_type": "execute_result"
    }
   ],
   "source": [
    "pickled_model2 = 'model2.pk'\n",
    "joblib.dump(ridge, os.getcwd()+'/models/'+str(pickled_model2))"
   ]
  },
  {
   "cell_type": "markdown",
   "metadata": {},
   "source": [
    "Similar to what we did before, we'll be trying loading model with `joblib`."
   ]
  },
  {
   "cell_type": "code",
   "execution_count": 38,
   "metadata": {},
   "outputs": [
    {
     "name": "stdout",
     "output_type": "stream",
     "text": [
      "Test set score: 0.63\n"
     ]
    }
   ],
   "source": [
    "loaded_model = joblib.load(os.getcwd()+'/models/'+str(pickled_model2))\n",
    "result = loaded_model.score(X_test, y_test)\n",
    "print(\"Test set score: {:.2f}\".format(result))"
   ]
  },
  {
   "cell_type": "markdown",
   "metadata": {},
   "source": [
    "#### Writing functions for Model Deployment"
   ]
  },
  {
   "cell_type": "markdown",
   "metadata": {},
   "source": [
    "We'll create a function that works as a base to be implemented as an API."
   ]
  },
  {
   "cell_type": "code",
   "execution_count": 43,
   "metadata": {
    "collapsed": true
   },
   "outputs": [],
   "source": [
    "def apicall():\n",
    "    \"\"\"API Call\n",
    "\n",
    "    Pandas dataframe (sent as a payload) from API Call\n",
    "    \"\"\"\n",
    "    try:\n",
    "        test_json = request.get_json()\n",
    "        test = pd.read_json(test_json, orient='split')\n",
    "    except Exception as e:\n",
    "        raise e\n",
    "\n",
    "    clf = 'model1.pk'\n",
    "\n",
    "    #Load the saved model\n",
    "    loaded_model = pickle.load(open(os.getcwd()+'/models/'+str(clf), 'rb'))\n",
    "    predictions = loaded_model.predict(test)\n",
    "\n",
    "    \"\"\"Add the predictions as Series to a new pandas dataframe\n",
    "                            OR\n",
    "       Depending on the use-case, the entire test data appended with the new files\n",
    "    \"\"\"\n",
    "    prediction_series = pd.Series(predictions)\n",
    "\n",
    "    \"\"\"We can be as creative in sending the responses.\n",
    "       But we need to send the response codes as well.\n",
    "    \"\"\"\n",
    "    responses = jsonify(predictions=prediction_series.to_json())\n",
    "    responses.status_code = 200\n",
    "\n",
    "    return (responses)"
   ]
  },
  {
   "cell_type": "markdown",
   "metadata": {},
   "source": [
    "The internal specifications might change while implementing in `Flask` or `Hug`, but above is the skeleton by which we should abide."
   ]
  },
  {
   "cell_type": "markdown",
   "metadata": {},
   "source": [
    "***\n",
    "***\n",
    "\n",
    "### Flask API\n",
    "\n",
    "There are a few python modules you need to install before creating Flask APIs.\n",
    "\n",
    "- flask: To create Web API\n",
    "- gunicorn: Serve the Web API\n",
    "\n",
    "We'll be deploying the API locally as well as on AWS. Locally it is pretty easy task, while on AWS we have task to setup and do a few installations.\n",
    "\n",
    "As a rule of thumb, hereon each application/API that we create would have its own virtual environment so as to keep the local and deployment environments same.\n",
    "\n",
    "1. Create a `virtual environment` using `conda distribution`.\n",
    "    - `conda create --name flask_api python=2.7`\n",
    "    - __NOTE:__ An environment file has already been provided, do: `conda env -f flask_api.yml` to setup the environment\n",
    "    \n",
    "    \n",
    "2. Below is the directory structure for the basic API:\n",
    "\n",
    "![Struct](./images/flask1.png)"
   ]
  },
  {
   "cell_type": "markdown",
   "metadata": {},
   "source": [
    "### Local deployment:\n",
    "\n",
    "Run the command: `gunicorn -w <number of workers> --bind <ip --> 0.0.0.0:8000> <python file name>:app`\n",
    "\n",
    "![local](./images/flasklocal.png)"
   ]
  },
  {
   "cell_type": "markdown",
   "metadata": {},
   "source": [
    "- Let's query using `requests` module:"
   ]
  },
  {
   "cell_type": "code",
   "execution_count": 1,
   "metadata": {
    "collapsed": true
   },
   "outputs": [],
   "source": [
    "import json\n",
    "import requests\n",
    "import pandas as pd"
   ]
  },
  {
   "cell_type": "code",
   "execution_count": 25,
   "metadata": {
    "collapsed": true
   },
   "outputs": [],
   "source": [
    "header = {'Content-Type': 'application/json', \\\n",
    "                  'Accept': 'application/json'}\n",
    "\n",
    "df = pd.read_csv('./data/X_test.csv')\n",
    "#df = pd.DataFrame()\n",
    "data = df.to_json(orient='split')\n",
    "resp = requests.post(\"http://192.168.99.100:5000/predict\", \\\n",
    "                    data = json.dumps(data),\\\n",
    "                    headers= header)"
   ]
  },
  {
   "cell_type": "code",
   "execution_count": 26,
   "metadata": {},
   "outputs": [
    {
     "data": {
      "text/plain": [
       "200"
      ]
     },
     "execution_count": 26,
     "metadata": {},
     "output_type": "execute_result"
    }
   ],
   "source": [
    "resp.status_code"
   ]
  },
  {
   "cell_type": "code",
   "execution_count": 27,
   "metadata": {},
   "outputs": [
    {
     "data": {
      "text/plain": [
       "'{\\n  \"predictions\": \"{\\\\\"0\\\\\":23.1970246692,\\\\\"1\\\\\":28.7831062489,\\\\\"2\\\\\":12.0389356585,\\\\\"3\\\\\":20.7348465382,\\\\\"4\\\\\":19.9706031476,\\\\\"5\\\\\":20.1416154764,\\\\\"6\\\\\":21.8972532839,\\\\\"7\\\\\":19.1367463674,\\\\\"8\\\\\":19.6964533114,\\\\\"9\\\\\":4.9026668722,\\\\\"10\\\\\":15.224867093,\\\\\"11\\\\\":17.3341126078,\\\\\"12\\\\\":5.3119671669,\\\\\"13\\\\\":39.4253347312,\\\\\"14\\\\\":32.2486492312,\\\\\"15\\\\\":21.6364944381,\\\\\"16\\\\\":36.226486366,\\\\\"17\\\\\":31.1512965416,\\\\\"18\\\\\":23.4883343239,\\\\\"19\\\\\":25.044188137,\\\\\"20\\\\\":23.8016226456,\\\\\"21\\\\\":20.5146124596,\\\\\"22\\\\\":30.2995961069,\\\\\"23\\\\\":22.3245598983,\\\\\"24\\\\\":9.286593858,\\\\\"25\\\\\":17.8754575572,\\\\\"26\\\\\":19.3292449293,\\\\\"27\\\\\":35.3485825098,\\\\\"28\\\\\":20.4004817178,\\\\\"29\\\\\":17.6117918717,\\\\\"30\\\\\":18.0904605832,\\\\\"31\\\\\":19.4512519069,\\\\\"32\\\\\":23.3022112769,\\\\\"33\\\\\":28.7336101301,\\\\\"34\\\\\":19.82816689,\\\\\"35\\\\\":10.9718782534,\\\\\"36\\\\\":24.3825460699,\\\\\"37\\\\\":16.5364883863,\\\\\"38\\\\\":14.3757529879,\\\\\"39\\\\\":25.6562015566,\\\\\"40\\\\\":20.7218223048,\\\\\"41\\\\\":22.2365756404,\\\\\"42\\\\\":14.5979761327,\\\\\"43\\\\\":23.1660027962,\\\\\"44\\\\\":24.8213473353,\\\\\"45\\\\\":19.022814209,\\\\\"46\\\\\":24.0477614783,\\\\\"47\\\\\":10.9169534175,\\\\\"48\\\\\":24.4286058281,\\\\\"49\\\\\":22.0612606974,\\\\\"50\\\\\":18.0391995184,\\\\\"51\\\\\":24.1765786526,\\\\\"52\\\\\":30.5697490034,\\\\\"53\\\\\":13.3493354731,\\\\\"54\\\\\":21.5973958689,\\\\\"55\\\\\":20.6315373489,\\\\\"56\\\\\":15.3859603485,\\\\\"57\\\\\":13.0989757859,\\\\\"58\\\\\":21.4726189179,\\\\\"59\\\\\":17.981357475,\\\\\"60\\\\\":21.7959434867,\\\\\"61\\\\\":32.6993059128,\\\\\"62\\\\\":31.445805225,\\\\\"63\\\\\":17.2836241914,\\\\\"64\\\\\":32.3676483564,\\\\\"65\\\\\":18.8023641809,\\\\\"66\\\\\":19.061123787,\\\\\"67\\\\\":18.0242700285,\\\\\"68\\\\\":23.0973458962,\\\\\"69\\\\\":21.9728904531,\\\\\"70\\\\\":23.4432892319,\\\\\"71\\\\\":30.459226004,\\\\\"72\\\\\":29.2997320487,\\\\\"73\\\\\":25.0493099227,\\\\\"74\\\\\":5.0331787462,\\\\\"75\\\\\":36.6979920233,\\\\\"76\\\\\":23.6937014494,\\\\\"77\\\\\":27.2540772574,\\\\\"78\\\\\":19.5916736065,\\\\\"79\\\\\":28.2266052119,\\\\\"80\\\\\":19.2862633207,\\\\\"81\\\\\":18.5687924347,\\\\\"82\\\\\":37.6546191196,\\\\\"83\\\\\":39.0312569342,\\\\\"84\\\\\":24.2917045711,\\\\\"85\\\\\":24.5288667825,\\\\\"86\\\\\":15.0835987975,\\\\\"87\\\\\":27.4265097574,\\\\\"88\\\\\":16.7864962276,\\\\\"89\\\\\":15.7759867811,\\\\\"90\\\\\":13.185852062,\\\\\"91\\\\\":24.4530605267,\\\\\"92\\\\\":30.5682859588,\\\\\"93\\\\\":22.7449820295,\\\\\"94\\\\\":20.2449987581,\\\\\"95\\\\\":-0.1943634088,\\\\\"96\\\\\":25.5420413671,\\\\\"97\\\\\":15.5261295907,\\\\\"98\\\\\":17.7491402903,\\\\\"99\\\\\":25.452083515,\\\\\"100\\\\\":22.2416833534,\\\\\"101\\\\\":32.0603331296,\\\\\"102\\\\\":21.6998910246,\\\\\"103\\\\\":26.9903923472,\\\\\"104\\\\\":23.2394604457,\\\\\"105\\\\\":6.1267808266,\\\\\"106\\\\\":14.9803170731,\\\\\"107\\\\\":22.8261352479,\\\\\"108\\\\\":28.8421618775,\\\\\"109\\\\\":32.5653538634,\\\\\"110\\\\\":12.0182436323,\\\\\"111\\\\\":19.4954592738,\\\\\"112\\\\\":20.3408035025,\\\\\"113\\\\\":11.6290901715,\\\\\"114\\\\\":23.0776322836,\\\\\"115\\\\\":4.9344864556,\\\\\"116\\\\\":20.0061925556,\\\\\"117\\\\\":9.1882848158,\\\\\"118\\\\\":44.3492857154,\\\\\"119\\\\\":30.4829481256,\\\\\"120\\\\\":12.27837008,\\\\\"121\\\\\":17.2491696435,\\\\\"122\\\\\":21.7715488939,\\\\\"123\\\\\":23.6256846458,\\\\\"124\\\\\":19.9193949892,\\\\\"125\\\\\":34.9836974244}\"\\n}\\n'"
      ]
     },
     "execution_count": 27,
     "metadata": {},
     "output_type": "execute_result"
    }
   ],
   "source": [
    "resp.content"
   ]
  },
  {
   "cell_type": "markdown",
   "metadata": {},
   "source": [
    "Push the code in a Github Repository and prepare for the next deployment on AWS."
   ]
  },
  {
   "cell_type": "markdown",
   "metadata": {},
   "source": [
    "### AWS Deployment\n",
    "\n",
    "- As mentioned in the slides, follow the steps and deploy the API to AWS\n",
    "- To confirm whether the API works or not, run it with the code below:"
   ]
  },
  {
   "cell_type": "code",
   "execution_count": 43,
   "metadata": {
    "collapsed": true
   },
   "outputs": [],
   "source": [
    "import pandas as pd\n",
    "import json\n",
    "import requests\n",
    "\n",
    "header = {'Content-Type': 'application/json', \\\n",
    "                  'Accept': 'application/json'}\n",
    "\n",
    "df = pd.read_csv('./data/X_test.csv')\n",
    "#df = pd.DataFrame()\n",
    "data = df.to_json(orient='split')\n",
    "resp = requests.post(\"http://54.85.55.6:5000/predict\", \\\n",
    "                    data = json.dumps(data),\\\n",
    "                    headers= header)"
   ]
  },
  {
   "cell_type": "code",
   "execution_count": 44,
   "metadata": {},
   "outputs": [
    {
     "data": {
      "text/plain": [
       "200"
      ]
     },
     "execution_count": 44,
     "metadata": {},
     "output_type": "execute_result"
    }
   ],
   "source": [
    "resp.status_code"
   ]
  },
  {
   "cell_type": "code",
   "execution_count": 45,
   "metadata": {},
   "outputs": [
    {
     "data": {
      "text/plain": [
       "'\"{\\\\\"predictions\\\\\": \\\\\"{\\\\\\\\\\\\\"0\\\\\\\\\\\\\":23.1970246692,\\\\\\\\\\\\\"1\\\\\\\\\\\\\":28.7831062489,\\\\\\\\\\\\\"2\\\\\\\\\\\\\":12.0389356585,\\\\\\\\\\\\\"3\\\\\\\\\\\\\":20.7348465382,\\\\\\\\\\\\\"4\\\\\\\\\\\\\":19.9706031476,\\\\\\\\\\\\\"5\\\\\\\\\\\\\":20.1416154764,\\\\\\\\\\\\\"6\\\\\\\\\\\\\":21.8972532839,\\\\\\\\\\\\\"7\\\\\\\\\\\\\":19.1367463674,\\\\\\\\\\\\\"8\\\\\\\\\\\\\":19.6964533114,\\\\\\\\\\\\\"9\\\\\\\\\\\\\":4.9026668722,\\\\\\\\\\\\\"10\\\\\\\\\\\\\":15.224867093,\\\\\\\\\\\\\"11\\\\\\\\\\\\\":17.3341126078,\\\\\\\\\\\\\"12\\\\\\\\\\\\\":5.3119671669,\\\\\\\\\\\\\"13\\\\\\\\\\\\\":39.4253347312,\\\\\\\\\\\\\"14\\\\\\\\\\\\\":32.2486492312,\\\\\\\\\\\\\"15\\\\\\\\\\\\\":21.6364944381,\\\\\\\\\\\\\"16\\\\\\\\\\\\\":36.226486366,\\\\\\\\\\\\\"17\\\\\\\\\\\\\":31.1512965416,\\\\\\\\\\\\\"18\\\\\\\\\\\\\":23.4883343239,\\\\\\\\\\\\\"19\\\\\\\\\\\\\":25.044188137,\\\\\\\\\\\\\"20\\\\\\\\\\\\\":23.8016226456,\\\\\\\\\\\\\"21\\\\\\\\\\\\\":20.5146124596,\\\\\\\\\\\\\"22\\\\\\\\\\\\\":30.2995961069,\\\\\\\\\\\\\"23\\\\\\\\\\\\\":22.3245598983,\\\\\\\\\\\\\"24\\\\\\\\\\\\\":9.286593858,\\\\\\\\\\\\\"25\\\\\\\\\\\\\":17.8754575572,\\\\\\\\\\\\\"26\\\\\\\\\\\\\":19.3292449293,\\\\\\\\\\\\\"27\\\\\\\\\\\\\":35.3485825098,\\\\\\\\\\\\\"28\\\\\\\\\\\\\":20.4004817178,\\\\\\\\\\\\\"29\\\\\\\\\\\\\":17.6117918717,\\\\\\\\\\\\\"30\\\\\\\\\\\\\":18.0904605832,\\\\\\\\\\\\\"31\\\\\\\\\\\\\":19.4512519069,\\\\\\\\\\\\\"32\\\\\\\\\\\\\":23.3022112769,\\\\\\\\\\\\\"33\\\\\\\\\\\\\":28.7336101301,\\\\\\\\\\\\\"34\\\\\\\\\\\\\":19.82816689,\\\\\\\\\\\\\"35\\\\\\\\\\\\\":10.9718782534,\\\\\\\\\\\\\"36\\\\\\\\\\\\\":24.3825460699,\\\\\\\\\\\\\"37\\\\\\\\\\\\\":16.5364883863,\\\\\\\\\\\\\"38\\\\\\\\\\\\\":14.3757529879,\\\\\\\\\\\\\"39\\\\\\\\\\\\\":25.6562015566,\\\\\\\\\\\\\"40\\\\\\\\\\\\\":20.7218223048,\\\\\\\\\\\\\"41\\\\\\\\\\\\\":22.2365756404,\\\\\\\\\\\\\"42\\\\\\\\\\\\\":14.5979761327,\\\\\\\\\\\\\"43\\\\\\\\\\\\\":23.1660027962,\\\\\\\\\\\\\"44\\\\\\\\\\\\\":24.8213473353,\\\\\\\\\\\\\"45\\\\\\\\\\\\\":19.022814209,\\\\\\\\\\\\\"46\\\\\\\\\\\\\":24.0477614783,\\\\\\\\\\\\\"47\\\\\\\\\\\\\":10.9169534175,\\\\\\\\\\\\\"48\\\\\\\\\\\\\":24.4286058281,\\\\\\\\\\\\\"49\\\\\\\\\\\\\":22.0612606974,\\\\\\\\\\\\\"50\\\\\\\\\\\\\":18.0391995184,\\\\\\\\\\\\\"51\\\\\\\\\\\\\":24.1765786526,\\\\\\\\\\\\\"52\\\\\\\\\\\\\":30.5697490034,\\\\\\\\\\\\\"53\\\\\\\\\\\\\":13.3493354731,\\\\\\\\\\\\\"54\\\\\\\\\\\\\":21.5973958689,\\\\\\\\\\\\\"55\\\\\\\\\\\\\":20.6315373489,\\\\\\\\\\\\\"56\\\\\\\\\\\\\":15.3859603485,\\\\\\\\\\\\\"57\\\\\\\\\\\\\":13.0989757859,\\\\\\\\\\\\\"58\\\\\\\\\\\\\":21.4726189179,\\\\\\\\\\\\\"59\\\\\\\\\\\\\":17.981357475,\\\\\\\\\\\\\"60\\\\\\\\\\\\\":21.7959434867,\\\\\\\\\\\\\"61\\\\\\\\\\\\\":32.6993059128,\\\\\\\\\\\\\"62\\\\\\\\\\\\\":31.445805225,\\\\\\\\\\\\\"63\\\\\\\\\\\\\":17.2836241914,\\\\\\\\\\\\\"64\\\\\\\\\\\\\":32.3676483564,\\\\\\\\\\\\\"65\\\\\\\\\\\\\":18.8023641809,\\\\\\\\\\\\\"66\\\\\\\\\\\\\":19.061123787,\\\\\\\\\\\\\"67\\\\\\\\\\\\\":18.0242700285,\\\\\\\\\\\\\"68\\\\\\\\\\\\\":23.0973458962,\\\\\\\\\\\\\"69\\\\\\\\\\\\\":21.9728904531,\\\\\\\\\\\\\"70\\\\\\\\\\\\\":23.4432892319,\\\\\\\\\\\\\"71\\\\\\\\\\\\\":30.459226004,\\\\\\\\\\\\\"72\\\\\\\\\\\\\":29.2997320487,\\\\\\\\\\\\\"73\\\\\\\\\\\\\":25.0493099227,\\\\\\\\\\\\\"74\\\\\\\\\\\\\":5.0331787462,\\\\\\\\\\\\\"75\\\\\\\\\\\\\":36.6979920233,\\\\\\\\\\\\\"76\\\\\\\\\\\\\":23.6937014494,\\\\\\\\\\\\\"77\\\\\\\\\\\\\":27.2540772574,\\\\\\\\\\\\\"78\\\\\\\\\\\\\":19.5916736065,\\\\\\\\\\\\\"79\\\\\\\\\\\\\":28.2266052119,\\\\\\\\\\\\\"80\\\\\\\\\\\\\":19.2862633207,\\\\\\\\\\\\\"81\\\\\\\\\\\\\":18.5687924347,\\\\\\\\\\\\\"82\\\\\\\\\\\\\":37.6546191196,\\\\\\\\\\\\\"83\\\\\\\\\\\\\":39.0312569342,\\\\\\\\\\\\\"84\\\\\\\\\\\\\":24.2917045711,\\\\\\\\\\\\\"85\\\\\\\\\\\\\":24.5288667825,\\\\\\\\\\\\\"86\\\\\\\\\\\\\":15.0835987975,\\\\\\\\\\\\\"87\\\\\\\\\\\\\":27.4265097574,\\\\\\\\\\\\\"88\\\\\\\\\\\\\":16.7864962276,\\\\\\\\\\\\\"89\\\\\\\\\\\\\":15.7759867811,\\\\\\\\\\\\\"90\\\\\\\\\\\\\":13.185852062,\\\\\\\\\\\\\"91\\\\\\\\\\\\\":24.4530605267,\\\\\\\\\\\\\"92\\\\\\\\\\\\\":30.5682859588,\\\\\\\\\\\\\"93\\\\\\\\\\\\\":22.7449820295,\\\\\\\\\\\\\"94\\\\\\\\\\\\\":20.2449987581,\\\\\\\\\\\\\"95\\\\\\\\\\\\\":-0.1943634088,\\\\\\\\\\\\\"96\\\\\\\\\\\\\":25.5420413671,\\\\\\\\\\\\\"97\\\\\\\\\\\\\":15.5261295907,\\\\\\\\\\\\\"98\\\\\\\\\\\\\":17.7491402903,\\\\\\\\\\\\\"99\\\\\\\\\\\\\":25.452083515,\\\\\\\\\\\\\"100\\\\\\\\\\\\\":22.2416833534,\\\\\\\\\\\\\"101\\\\\\\\\\\\\":32.0603331296,\\\\\\\\\\\\\"102\\\\\\\\\\\\\":21.6998910246,\\\\\\\\\\\\\"103\\\\\\\\\\\\\":26.9903923472,\\\\\\\\\\\\\"104\\\\\\\\\\\\\":23.2394604457,\\\\\\\\\\\\\"105\\\\\\\\\\\\\":6.1267808266,\\\\\\\\\\\\\"106\\\\\\\\\\\\\":14.9803170731,\\\\\\\\\\\\\"107\\\\\\\\\\\\\":22.8261352479,\\\\\\\\\\\\\"108\\\\\\\\\\\\\":28.8421618775,\\\\\\\\\\\\\"109\\\\\\\\\\\\\":32.5653538634,\\\\\\\\\\\\\"110\\\\\\\\\\\\\":12.0182436323,\\\\\\\\\\\\\"111\\\\\\\\\\\\\":19.4954592738,\\\\\\\\\\\\\"112\\\\\\\\\\\\\":20.3408035025,\\\\\\\\\\\\\"113\\\\\\\\\\\\\":11.6290901715,\\\\\\\\\\\\\"114\\\\\\\\\\\\\":23.0776322836,\\\\\\\\\\\\\"115\\\\\\\\\\\\\":4.9344864556,\\\\\\\\\\\\\"116\\\\\\\\\\\\\":20.0061925556,\\\\\\\\\\\\\"117\\\\\\\\\\\\\":9.1882848158,\\\\\\\\\\\\\"118\\\\\\\\\\\\\":44.3492857154,\\\\\\\\\\\\\"119\\\\\\\\\\\\\":30.4829481256,\\\\\\\\\\\\\"120\\\\\\\\\\\\\":12.27837008,\\\\\\\\\\\\\"121\\\\\\\\\\\\\":17.2491696435,\\\\\\\\\\\\\"122\\\\\\\\\\\\\":21.7715488939,\\\\\\\\\\\\\"123\\\\\\\\\\\\\":23.6256846458,\\\\\\\\\\\\\"124\\\\\\\\\\\\\":19.9193949892,\\\\\\\\\\\\\"125\\\\\\\\\\\\\":34.9836974244}\\\\\"}\"'"
      ]
     },
     "execution_count": 45,
     "metadata": {},
     "output_type": "execute_result"
    }
   ],
   "source": [
    "resp.content"
   ]
  }
 ],
 "metadata": {
  "kernelspec": {
   "display_name": "Python 2",
   "language": "python",
   "name": "python2"
  },
  "language_info": {
   "codemirror_mode": {
    "name": "ipython",
    "version": 2
   },
   "file_extension": ".py",
   "mimetype": "text/x-python",
   "name": "python",
   "nbconvert_exporter": "python",
   "pygments_lexer": "ipython2",
   "version": "2.7.13"
  },
  "widgets": {
   "state": {},
   "version": "1.1.2"
  }
 },
 "nbformat": 4,
 "nbformat_minor": 2
}
